{
 "cells": [
  {
   "cell_type": "markdown",
   "source": [
    "# Mise en pratique de `Spark SQL` "
   ],
   "metadata": {}
  },
  {
   "cell_type": "markdown",
   "source": [
    "\n",
    "- Qu'est-ce que Spark SQL ?\n",
    "\n",
    "For SQL users, Spark SQL provides state-of-the-art SQL performance and maintains compatibility with Shark/Hive. In particular, like Shark, Spark SQL supports all existing Hive data formats, user-defined functions (UDF), and the Hive metastore.\n",
    "\n",
    "For Spark users, Spark SQL becomes the narrow-waist for manipulating (semi-) structured data as well as ingesting data from sources that provide schema, such as JSON, Parquet, Hive, or EDWs. It truly unifies SQL and sophisticated analysis, allowing users to mix and match SQL and more imperative programming APIs for advanced analytics.\n",
    "\n",
    "For open source hackers, Spark SQL proposes a novel, elegant way of building query planners. It is incredibly easy to add new optimizations under this framework.\n",
    "\n",
    "Internally, a structured query is a Catalyst tree of (logical and physical) relational operators and expressions."
   ],
   "metadata": {}
  },
  {
   "cell_type": "markdown",
   "source": [
    "- Importer les modules usuels"
   ],
   "metadata": {}
  },
  {
   "cell_type": "code",
   "execution_count": 1,
   "source": [
    "import pandas as pd\n",
    "import numpy as np\n",
    "import matplotlib.pyplot as plt\n",
    "import os, sys, timeit\n",
    "from pathlib import Path\n",
    "import seaborn as sns\n",
    "\n",
    "sns.set_context(\"notebook\", font_scale=1.2)"
   ],
   "outputs": [],
   "metadata": {}
  },
  {
   "cell_type": "markdown",
   "source": [
    "- Importer les classes et fonctions importées par `pyspark` pendant la session."
   ],
   "metadata": {}
  },
  {
   "cell_type": "code",
   "execution_count": 2,
   "source": [
    "from pyspark import SparkConf, SparkContext\n",
    "from pyspark.sql import SparkSession, Window\n",
    "from pyspark.sql.functions import col\n",
    "import pyspark.sql.functions as fn\n",
    "from pyspark.sql.catalog import Catalog\n",
    "from pyspark.sql.types import StructType, StructField, IntegerType, StringType"
   ],
   "outputs": [],
   "metadata": {}
  },
  {
   "cell_type": "markdown",
   "source": [
    "- Démarrer la `SparkSession`"
   ],
   "metadata": {}
  },
  {
   "cell_type": "code",
   "execution_count": 3,
   "source": [
    "conf = SparkConf().setAppName(\"Spark SQL Illustration\")\n",
    "sc = SparkContext(conf=conf)\n",
    "\n",
    "spark = (SparkSession\n",
    "    .builder\n",
    "    .appName(\"Spark SQL\")\n",
    "    .getOrCreate()\n",
    ")"
   ],
   "outputs": [],
   "metadata": {}
  },
  {
   "cell_type": "markdown",
   "source": [
    "Common Voice Finnish\n",
    "======================\n",
    "\n",
    "Description : Un ensemble de jeux de données au sujet des métadonnées des audios enregistrés en finnois. Les participants sont volontaires à contribuer leur voix en lisant les phrases distribuées aléatoirement. En général, chaque fichier audio contient une phrase.\n",
    "\n",
    "**Source** : [Common Voice FI]('https://commonvoice.mozilla.org/fi/datasets')\n",
    "\n",
    "**Structure des données** : les fichiers se composent de 6 fichiers avec 10 colonnes.\n",
    "\n",
    "```\n",
    "|-- client_id (nullable = true)\n",
    "    |-- path (nullable = true)\n",
    "    |-- sentence (nullable = true)\n",
    "    |-- up_votes (nullable = true)\n",
    "    |-- down_votes (nullable = true)\n",
    "    |-- age (nullable = true)\n",
    "    |-- gender (nullable = true)\n",
    "    |-- accent (nullable = true)\n",
    "    |-- locale (nullable = true)\n",
    "    |-- segment (nullable = true)\n",
    "```\n",
    "\n",
    "Chaque colonne correspond à une information: l'identifiant du client, le chemin du fichier audio, la phrase, le nombre de votes pour, le nombre de votes contre, l'âge, le genre, l'accent, le lieu et le segment.\n",
    "\n",
    "Exemple:\n",
    "\n",
    "| client_id | path | sentence | up_votes | down_votes | age | gender | accent | locale | segment\n",
    "|:----|:----|:----|:----|:----|:----|:----|:----|:----|:----|\n",
    "|2ebf0d7f2db234c72eaf994| common_voice_fi_24001101.mp3| Mysteerimies oli oppinut moraalinsa taruista, elokuvista ja peleistä. |2|0||||fi||\n",
    "|c9195a7119ad75ddfffa461|common_voice_fi_23651908.mp3|Jäin aluksen sisään, mutta kuulin oven läpi, että ulkopuolella alkoi tapahtua.|2|0|twenties|female||fi||\n"
   ],
   "metadata": {}
  },
  {
   "cell_type": "markdown",
   "source": [
    "# En premier lieu, nous importons les données si elles ne sont pas à disposition."
   ],
   "metadata": {}
  },
  {
   "cell_type": "code",
   "execution_count": 10,
   "source": [
    "dataframe_spark = spark.read\\\n",
    "             .format(\"csv\")\\\n",
    "             .option(\"header\", \"true\")\\\n",
    "             .option(\"mode\", \"FAILFAST\")\\\n",
    "             .option(\"inferSchema\", \"true\")\\\n",
    "             .option(\"delimiter\", \"\\t\")\\\n",
    "             .load('finnish_audio')\n",
    "\n",
    "dataframe_spark.printSchema()"
   ],
   "outputs": [
    {
     "output_type": "stream",
     "name": "stdout",
     "text": [
      "root\n",
      " |-- client_id: string (nullable = true)\n",
      " |-- path: string (nullable = true)\n",
      " |-- sentence: string (nullable = true)\n",
      " |-- up_votes: integer (nullable = true)\n",
      " |-- down_votes: integer (nullable = true)\n",
      " |-- age: string (nullable = true)\n",
      " |-- gender: string (nullable = true)\n",
      " |-- accent: string (nullable = true)\n",
      " |-- locale: string (nullable = true)\n",
      " |-- segment: string (nullable = true)\n",
      "\n"
     ]
    }
   ],
   "metadata": {}
  },
  {
   "cell_type": "code",
   "execution_count": 11,
   "source": [
    "# Si on veut changer du type d'une colonne:\n",
    "\n",
    "# dataframe_spark = dataframe_spark.withColumn(\"age\", dataframe_spark.age.cast(\"int\"))\n",
    "# dataframe_spark.printSchema()"
   ],
   "outputs": [],
   "metadata": {}
  },
  {
   "cell_type": "code",
   "execution_count": 12,
   "source": [
    "Catalog(spark).listTables()"
   ],
   "outputs": [
    {
     "output_type": "execute_result",
     "data": {
      "text/plain": [
       "[Table(name='finnish', database=None, description=None, tableType='TEMPORARY', isTemporary=True)]"
      ]
     },
     "metadata": {},
     "execution_count": 12
    }
   ],
   "metadata": {}
  },
  {
   "cell_type": "markdown",
   "source": [
    "Créer un aperçu temporaire (temporary view) à partir d'un `DataFrame`.\n",
    "Dans Spark SQL, l'aperçu temporaire n'est que disponible dans la session et il sera disparu si la session se termine.\n",
    "\n",
    "Au contraire, Global Temporary View n'est pas applicable seulement dans la session."
   ],
   "metadata": {}
  },
  {
   "cell_type": "code",
   "execution_count": 13,
   "source": [
    "dataframe_spark.createOrReplaceTempView(\"finnish\")\n",
    "Catalog(spark).listTables() "
   ],
   "outputs": [
    {
     "output_type": "execute_result",
     "data": {
      "text/plain": [
       "[Table(name='finnish', database=None, description=None, tableType='TEMPORARY', isTemporary=True)]"
      ]
     },
     "metadata": {},
     "execution_count": 13
    }
   ],
   "metadata": {}
  },
  {
   "cell_type": "markdown",
   "source": [
    "# Un test de requête : incorporé dans une chaîne de caractère"
   ],
   "metadata": {}
  },
  {
   "cell_type": "code",
   "execution_count": 14,
   "source": [
    "query = \"\"\"\n",
    "SELECT * FROM finnish\n",
    "WHERE ( age = {0} AND gender = {1} ) \n",
    "ORDER BY up_votes DESC\n",
    "LIMIT 20\n",
    "\"\"\"\n",
    "\n",
    "female_query = spark.sql(query.format(\"'twenties'\",\"'female'\"))\n",
    "male_query = spark.sql(query.format(\"'fourties'\",\"'male'\"))\n",
    "female_query.union(male_query).show()"
   ],
   "outputs": [
    {
     "output_type": "stream",
     "name": "stdout",
     "text": [
      "+--------------------+--------------------+--------------------+--------+----------+--------+------+------+------+-------+\n",
      "|           client_id|                path|            sentence|up_votes|down_votes|     age|gender|accent|locale|segment|\n",
      "+--------------------+--------------------+--------------------+--------+----------+--------+------+------+------+-------+\n",
      "|26620174910afa474...|common_voice_fi_2...|Arkit kun ovat nä...|       2|         0|twenties|female|  null|    fi|   null|\n",
      "|26620174910afa474...|common_voice_fi_2...|Jäin aluksen sisä...|       2|         0|twenties|female|  null|    fi|   null|\n",
      "|26620174910afa474...|common_voice_fi_2...|En ymmärrä, voisi...|       2|         0|twenties|female|  null|    fi|   null|\n",
      "|26620174910afa474...|common_voice_fi_2...|Äänestin kuitenki...|       2|         0|twenties|female|  null|    fi|   null|\n",
      "|26620174910afa474...|common_voice_fi_2...|Hänellä oli omia ...|       2|         0|twenties|female|  null|    fi|   null|\n",
      "|26620174910afa474...|common_voice_fi_2...|Arkit kun ovat nä...|       2|         0|twenties|female|  null|    fi|   null|\n",
      "|26620174910afa474...|common_voice_fi_2...|Jäin aluksen sisä...|       2|         0|twenties|female|  null|    fi|   null|\n",
      "|26620174910afa474...|common_voice_fi_2...|En ymmärrä, voisi...|       2|         0|twenties|female|  null|    fi|   null|\n",
      "|26620174910afa474...|common_voice_fi_2...|Äänestin kuitenki...|       2|         0|twenties|female|  null|    fi|   null|\n",
      "|26620174910afa474...|common_voice_fi_2...|Hänellä oli omia ...|       2|         0|twenties|female|  null|    fi|   null|\n",
      "|a74267210352d9493...|common_voice_fi_2...|Rannat alkoivat l...|       2|         0|fourties|  male|  null|    fi|   null|\n",
      "|a74267210352d9493...|common_voice_fi_2...|    Paljon kiitoksia|       2|         0|fourties|  male|  null|    fi|   null|\n",
      "|a74267210352d9493...|common_voice_fi_2...|Jos Uffe ei tästä...|       2|         0|fourties|  male|  null|    fi|   null|\n",
      "|a74267210352d9493...|common_voice_fi_2...|Mitä jos tuuli kä...|       2|         0|fourties|  male|  null|    fi|   null|\n",
      "|a74267210352d9493...|common_voice_fi_2...|Äänellä on näillä...|       2|         0|fourties|  male|  null|    fi|   null|\n",
      "|a74267210352d9493...|common_voice_fi_2...|He olivat saaneet...|       2|         0|fourties|  male|  null|    fi|   null|\n",
      "|a74267210352d9493...|common_voice_fi_2...|Tapelleet olivat,...|       2|         0|fourties|  male|  null|    fi|   null|\n",
      "|a74267210352d9493...|common_voice_fi_2...|Hän on jo melkein...|       2|         0|fourties|  male|  null|    fi|   null|\n",
      "|573cc73b8955c3721...|common_voice_fi_2...|Vastasin kuitenki...|       2|         0|fourties|  male|  null|    fi|   null|\n",
      "|573cc73b8955c3721...|common_voice_fi_2...|Äänestin mietinnö...|       2|         0|fourties|  male|  null|    fi|   null|\n",
      "+--------------------+--------------------+--------------------+--------+----------+--------+------+------+------+-------+\n",
      "only showing top 20 rows\n",
      "\n"
     ]
    }
   ],
   "metadata": {}
  },
  {
   "cell_type": "markdown",
   "source": [
    "# Approche alternante: dataframe/dataset API "
   ],
   "metadata": {}
  },
  {
   "cell_type": "code",
   "execution_count": 15,
   "source": [
    "top20_male = dataframe_spark.where(\"gender = 'male' \").where(\" age= 'twenties' \").orderBy(dataframe_spark.down_votes.desc()).limit(20)\n",
    "top20_male.show()"
   ],
   "outputs": [
    {
     "output_type": "stream",
     "name": "stdout",
     "text": [
      "+--------------------+--------------------+--------------------+--------+----------+--------+------+------+------+-------+\n",
      "|           client_id|                path|            sentence|up_votes|down_votes|     age|gender|accent|locale|segment|\n",
      "+--------------------+--------------------+--------------------+--------+----------+--------+------+------+------+-------+\n",
      "|5b78b3798b45f56e1...|common_voice_fi_2...|Eiväthän nuo eluk...|       1|         2|twenties|  male|  null|    fi|   null|\n",
      "|5b78b3798b45f56e1...|common_voice_fi_2...|Mutta toisen kome...|       0|         2|twenties|  male|  null|    fi|   null|\n",
      "|7839f10ac19c4c544...|common_voice_fi_2...|Jos ne eivät tuot...|       1|         2|twenties|  male|  null|    fi|   null|\n",
      "|a2ddad7d078d2af58...|common_voice_fi_2...|Olivatkohan he jo...|       0|         2|twenties|  male|  null|    fi|   null|\n",
      "|a2ddad7d078d2af58...|common_voice_fi_2...|Vai onko jokin mu...|       0|         2|twenties|  male|  null|    fi|   null|\n",
      "|a2ddad7d078d2af58...|common_voice_fi_2...|Olimme jo vuosika...|       0|         2|twenties|  male|  null|    fi|   null|\n",
      "|5b78b3798b45f56e1...|common_voice_fi_2...|Katsoin ikkunasta...|       2|         1|twenties|  male|  null|    fi|   null|\n",
      "|5b78b3798b45f56e1...|common_voice_fi_2...|Äänestin mietinnö...|       2|         1|twenties|  male|  null|    fi|   null|\n",
      "|5b78b3798b45f56e1...|common_voice_fi_2...|Katsoin ikkunasta...|       2|         1|twenties|  male|  null|    fi|   null|\n",
      "|5b78b3798b45f56e1...|common_voice_fi_2...|Käkriäinen suuttu...|       2|         1|twenties|  male|  null|    fi|   null|\n",
      "|7839f10ac19c4c544...|common_voice_fi_2...|Johan minä olisin...|       2|         1|twenties|  male|  null|    fi|   null|\n",
      "|7839f10ac19c4c544...|common_voice_fi_2...|Johan minä olisin...|       2|         1|twenties|  male|  null|    fi|   null|\n",
      "|7839f10ac19c4c544...|common_voice_fi_2...|Ja sitten jättäis...|       2|         1|twenties|  male|  null|    fi|   null|\n",
      "|7839f10ac19c4c544...|common_voice_fi_2...|Adjektiiveja tai ...|       2|         1|twenties|  male|  null|    fi|   null|\n",
      "|7839f10ac19c4c544...|common_voice_fi_2...|Olinhan minä häne...|       2|         1|twenties|  male|  null|    fi|   null|\n",
      "|7839f10ac19c4c544...|common_voice_fi_2...|Ja sitten jättäis...|       2|         1|twenties|  male|  null|    fi|   null|\n",
      "|7839f10ac19c4c544...|common_voice_fi_2...|Hallitus tekee pä...|       2|         1|twenties|  male|  null|    fi|   null|\n",
      "|7839f10ac19c4c544...|common_voice_fi_2...|Se aikoo jo lähte...|       2|         1|twenties|  male|  null|    fi|   null|\n",
      "|7839f10ac19c4c544...|common_voice_fi_2...|Se voisi kompuroi...|       2|         1|twenties|  male|  null|    fi|   null|\n",
      "|7839f10ac19c4c544...|common_voice_fi_2...|Olinhan minä häne...|       2|         1|twenties|  male|  null|    fi|   null|\n",
      "+--------------------+--------------------+--------------------+--------+----------+--------+------+------+------+-------+\n",
      "\n"
     ]
    }
   ],
   "metadata": {}
  },
  {
   "cell_type": "code",
   "execution_count": 16,
   "source": [
    "type(top20_male)"
   ],
   "outputs": [
    {
     "output_type": "execute_result",
     "data": {
      "text/plain": [
       "pyspark.sql.dataframe.DataFrame"
      ]
     },
     "metadata": {},
     "execution_count": 16
    }
   ],
   "metadata": {}
  },
  {
   "cell_type": "code",
   "execution_count": 17,
   "source": [
    "type(top20_male.take(2))"
   ],
   "outputs": [
    {
     "output_type": "execute_result",
     "data": {
      "text/plain": [
       "list"
      ]
     },
     "metadata": {},
     "execution_count": 17
    }
   ],
   "metadata": {}
  },
  {
   "cell_type": "code",
   "execution_count": 18,
   "source": [
    "type(top20_male.take(2)[0])"
   ],
   "outputs": [
    {
     "output_type": "execute_result",
     "data": {
      "text/plain": [
       "pyspark.sql.types.Row"
      ]
     },
     "metadata": {},
     "execution_count": 18
    }
   ],
   "metadata": {}
  },
  {
   "cell_type": "code",
   "execution_count": 19,
   "source": [
    "temp_dataframe = dataframe_spark.where(\" 0 = 1 \")\n",
    "genders = [\"'male'\", \"'female'\"]\n",
    "for gender in genders:\n",
    "    temp_dataframe = temp_dataframe.union(dataframe_spark.where(\" age = 'twenties' \").where(\"\".join([\" gender = \", gender])).orderBy(dataframe_spark.down_votes.desc()).limit(20))\n",
    "    temp_dataframe.show()"
   ],
   "outputs": [
    {
     "output_type": "stream",
     "name": "stdout",
     "text": [
      "+--------------------+--------------------+--------------------+--------+----------+--------+------+------+------+-------+\n",
      "|           client_id|                path|            sentence|up_votes|down_votes|     age|gender|accent|locale|segment|\n",
      "+--------------------+--------------------+--------------------+--------+----------+--------+------+------+------+-------+\n",
      "|5b78b3798b45f56e1...|common_voice_fi_2...|Eiväthän nuo eluk...|       1|         2|twenties|  male|  null|    fi|   null|\n",
      "|5b78b3798b45f56e1...|common_voice_fi_2...|Mutta toisen kome...|       0|         2|twenties|  male|  null|    fi|   null|\n",
      "|7839f10ac19c4c544...|common_voice_fi_2...|Jos ne eivät tuot...|       1|         2|twenties|  male|  null|    fi|   null|\n",
      "|a2ddad7d078d2af58...|common_voice_fi_2...|Olivatkohan he jo...|       0|         2|twenties|  male|  null|    fi|   null|\n",
      "|a2ddad7d078d2af58...|common_voice_fi_2...|Vai onko jokin mu...|       0|         2|twenties|  male|  null|    fi|   null|\n",
      "|a2ddad7d078d2af58...|common_voice_fi_2...|Olimme jo vuosika...|       0|         2|twenties|  male|  null|    fi|   null|\n",
      "|5b78b3798b45f56e1...|common_voice_fi_2...|Katsoin ikkunasta...|       2|         1|twenties|  male|  null|    fi|   null|\n",
      "|5b78b3798b45f56e1...|common_voice_fi_2...|Äänestin mietinnö...|       2|         1|twenties|  male|  null|    fi|   null|\n",
      "|5b78b3798b45f56e1...|common_voice_fi_2...|Katsoin ikkunasta...|       2|         1|twenties|  male|  null|    fi|   null|\n",
      "|5b78b3798b45f56e1...|common_voice_fi_2...|Käkriäinen suuttu...|       2|         1|twenties|  male|  null|    fi|   null|\n",
      "|7839f10ac19c4c544...|common_voice_fi_2...|Johan minä olisin...|       2|         1|twenties|  male|  null|    fi|   null|\n",
      "|7839f10ac19c4c544...|common_voice_fi_2...|Johan minä olisin...|       2|         1|twenties|  male|  null|    fi|   null|\n",
      "|7839f10ac19c4c544...|common_voice_fi_2...|Ja sitten jättäis...|       2|         1|twenties|  male|  null|    fi|   null|\n",
      "|7839f10ac19c4c544...|common_voice_fi_2...|Adjektiiveja tai ...|       2|         1|twenties|  male|  null|    fi|   null|\n",
      "|7839f10ac19c4c544...|common_voice_fi_2...|Olinhan minä häne...|       2|         1|twenties|  male|  null|    fi|   null|\n",
      "|7839f10ac19c4c544...|common_voice_fi_2...|Ja sitten jättäis...|       2|         1|twenties|  male|  null|    fi|   null|\n",
      "|7839f10ac19c4c544...|common_voice_fi_2...|Hallitus tekee pä...|       2|         1|twenties|  male|  null|    fi|   null|\n",
      "|7839f10ac19c4c544...|common_voice_fi_2...|Se aikoo jo lähte...|       2|         1|twenties|  male|  null|    fi|   null|\n",
      "|7839f10ac19c4c544...|common_voice_fi_2...|Se voisi kompuroi...|       2|         1|twenties|  male|  null|    fi|   null|\n",
      "|7839f10ac19c4c544...|common_voice_fi_2...|Olinhan minä häne...|       2|         1|twenties|  male|  null|    fi|   null|\n",
      "+--------------------+--------------------+--------------------+--------+----------+--------+------+------+------+-------+\n",
      "\n",
      "+--------------------+--------------------+--------------------+--------+----------+--------+------+------+------+-------+\n",
      "|           client_id|                path|            sentence|up_votes|down_votes|     age|gender|accent|locale|segment|\n",
      "+--------------------+--------------------+--------------------+--------+----------+--------+------+------+------+-------+\n",
      "|5b78b3798b45f56e1...|common_voice_fi_2...|Eiväthän nuo eluk...|       1|         2|twenties|  male|  null|    fi|   null|\n",
      "|5b78b3798b45f56e1...|common_voice_fi_2...|Mutta toisen kome...|       0|         2|twenties|  male|  null|    fi|   null|\n",
      "|7839f10ac19c4c544...|common_voice_fi_2...|Jos ne eivät tuot...|       1|         2|twenties|  male|  null|    fi|   null|\n",
      "|a2ddad7d078d2af58...|common_voice_fi_2...|Olivatkohan he jo...|       0|         2|twenties|  male|  null|    fi|   null|\n",
      "|a2ddad7d078d2af58...|common_voice_fi_2...|Vai onko jokin mu...|       0|         2|twenties|  male|  null|    fi|   null|\n",
      "|a2ddad7d078d2af58...|common_voice_fi_2...|Olimme jo vuosika...|       0|         2|twenties|  male|  null|    fi|   null|\n",
      "|5b78b3798b45f56e1...|common_voice_fi_2...|Katsoin ikkunasta...|       2|         1|twenties|  male|  null|    fi|   null|\n",
      "|5b78b3798b45f56e1...|common_voice_fi_2...|Äänestin mietinnö...|       2|         1|twenties|  male|  null|    fi|   null|\n",
      "|5b78b3798b45f56e1...|common_voice_fi_2...|Katsoin ikkunasta...|       2|         1|twenties|  male|  null|    fi|   null|\n",
      "|5b78b3798b45f56e1...|common_voice_fi_2...|Käkriäinen suuttu...|       2|         1|twenties|  male|  null|    fi|   null|\n",
      "|7839f10ac19c4c544...|common_voice_fi_2...|Johan minä olisin...|       2|         1|twenties|  male|  null|    fi|   null|\n",
      "|7839f10ac19c4c544...|common_voice_fi_2...|Johan minä olisin...|       2|         1|twenties|  male|  null|    fi|   null|\n",
      "|7839f10ac19c4c544...|common_voice_fi_2...|Ja sitten jättäis...|       2|         1|twenties|  male|  null|    fi|   null|\n",
      "|7839f10ac19c4c544...|common_voice_fi_2...|Adjektiiveja tai ...|       2|         1|twenties|  male|  null|    fi|   null|\n",
      "|7839f10ac19c4c544...|common_voice_fi_2...|Olinhan minä häne...|       2|         1|twenties|  male|  null|    fi|   null|\n",
      "|7839f10ac19c4c544...|common_voice_fi_2...|Ja sitten jättäis...|       2|         1|twenties|  male|  null|    fi|   null|\n",
      "|7839f10ac19c4c544...|common_voice_fi_2...|Hallitus tekee pä...|       2|         1|twenties|  male|  null|    fi|   null|\n",
      "|7839f10ac19c4c544...|common_voice_fi_2...|Se aikoo jo lähte...|       2|         1|twenties|  male|  null|    fi|   null|\n",
      "|7839f10ac19c4c544...|common_voice_fi_2...|Se voisi kompuroi...|       2|         1|twenties|  male|  null|    fi|   null|\n",
      "|7839f10ac19c4c544...|common_voice_fi_2...|Olinhan minä häne...|       2|         1|twenties|  male|  null|    fi|   null|\n",
      "+--------------------+--------------------+--------------------+--------+----------+--------+------+------+------+-------+\n",
      "only showing top 20 rows\n",
      "\n"
     ]
    }
   ],
   "metadata": {}
  },
  {
   "cell_type": "markdown",
   "source": [
    "# Spark Window Fuctions - PySpark\n",
    "\n",
    "**-Basic Frame**\n",
    "1. partitionBy()\n",
    "\n",
    "    Exemple : overCategory = Window.partitionBy(\"depName\")\n",
    "\n",
    "**-Aggregate Functions**\n",
    "1. avg, sum, count, collect_list, etc.\n",
    " \n",
    "**- Rank Functions**\n",
    "1. rank(1224)\n",
    "2. dense_rank(1223)\n",
    "3. row_number(1234) \n",
    "4. ntile(classment en fonction de la partition séparée)\n",
    "5. percent_rank(top20%, top30%, etc..)\n",
    "\n",
    "**- Lead & Lag in a group**\n",
    "1. lag : valeur précédente\n",
    "2. lead : valeur suivante\n",
    "\n",
    "    Exemple : lead(\"salary\",1).over(overCategory) | lag(\"salary\",1).over(overCategory)\n",
    "\n",
    "**- Range Frame**\n",
    "1. rowsBetween(start,end)\n",
    "2. rangeBetween(start,end)"
   ],
   "metadata": {}
  },
  {
   "cell_type": "markdown",
   "source": [
    "# Quelques exercices"
   ],
   "metadata": {}
  },
  {
   "cell_type": "markdown",
   "source": [
    "1. Calculer pour chaque groupe d'âge et de genre, le nombre de participants.\n"
   ],
   "metadata": {}
  },
  {
   "cell_type": "code",
   "execution_count": 37,
   "source": [
    "# extrait des colonnes dont on a besoin\n",
    "nb_count = dataframe_spark.groupBy('age', 'gender').count()\n",
    "\n",
    "# compter par l'âge\n",
    "window = Window.partitionBy('age')\n",
    "count_age = fn.sum('count').over(window)\n",
    "\n",
    "# ajout d'un nouvelle colonne\n",
    "nb_count = nb_count.withColumn('age_group_count', count_age) \\\n",
    "    .select('age','gender', 'count','age_group_count', 'age_group_count') \\\n",
    "    .where(\" age is not null AND gender is not null \")\n",
    "\n",
    "nb_count.show()"
   ],
   "outputs": [
    {
     "output_type": "stream",
     "name": "stdout",
     "text": [
      "+--------+------+-----+---------------+---------------+\n",
      "|     age|gender|count|age_group_count|age_group_count|\n",
      "+--------+------+-----+---------------+---------------+\n",
      "| fifties|  male|   40|             40|             40|\n",
      "|   teens|  male|  111|            111|            111|\n",
      "|fourties|  male|  505|            505|            505|\n",
      "|thirties|  male| 1140|           1140|           1140|\n",
      "|twenties|  male|  410|            420|            420|\n",
      "|twenties|female|   10|            420|            420|\n",
      "+--------+------+-----+---------------+---------------+\n",
      "\n"
     ]
    }
   ],
   "metadata": {}
  },
  {
   "cell_type": "markdown",
   "source": [
    "2. Calculer le sexe-ratio pour tous les âges"
   ],
   "metadata": {}
  },
  {
   "cell_type": "code",
   "execution_count": 39,
   "source": [
    "df = dataframe_spark.groupBy('age') \\\n",
    "    .pivot('gender') \\\n",
    "    .sum('up_votes') \\\n",
    "    .withColumn(\"sex_ratio\", fn.round(col('male')/col('female'),2)) \\\n",
    "    .select('age','male', 'female', 'sex_ratio')\n",
    "\n",
    "df.show(20)"
   ],
   "outputs": [
    {
     "output_type": "stream",
     "name": "stdout",
     "text": [
      "+--------+----+------+---------+\n",
      "|     age|male|female|sex_ratio|\n",
      "+--------+----+------+---------+\n",
      "| fifties|  53|  null|     null|\n",
      "|    null|null|  null|     null|\n",
      "|   teens| 216|  null|     null|\n",
      "|fourties| 988|  null|     null|\n",
      "|thirties|2190|  null|     null|\n",
      "|twenties| 810|    20|     40.5|\n",
      "+--------+----+------+---------+\n",
      "\n"
     ]
    }
   ],
   "metadata": {}
  },
  {
   "cell_type": "markdown",
   "source": [
    "3. Visualiser (plot) l'évolution de participants en fonction de leur âge"
   ],
   "metadata": {}
  },
  {
   "cell_type": "code",
   "execution_count": 40,
   "source": [
    "pd_dataframe_spark = nb_count.toPandas()\n",
    "pd_dataframe_spark"
   ],
   "outputs": [
    {
     "output_type": "execute_result",
     "data": {
      "text/plain": [
       "        age  gender  count  age_group_count  age_group_count\n",
       "0   fifties    male     40               40               40\n",
       "1     teens    male    111              111              111\n",
       "2  fourties    male    505              505              505\n",
       "3  thirties    male   1140             1140             1140\n",
       "4  twenties    male    410              420              420\n",
       "5  twenties  female     10              420              420"
      ],
      "text/html": [
       "<div>\n",
       "<style scoped>\n",
       "    .dataframe tbody tr th:only-of-type {\n",
       "        vertical-align: middle;\n",
       "    }\n",
       "\n",
       "    .dataframe tbody tr th {\n",
       "        vertical-align: top;\n",
       "    }\n",
       "\n",
       "    .dataframe thead th {\n",
       "        text-align: right;\n",
       "    }\n",
       "</style>\n",
       "<table border=\"1\" class=\"dataframe\">\n",
       "  <thead>\n",
       "    <tr style=\"text-align: right;\">\n",
       "      <th></th>\n",
       "      <th>age</th>\n",
       "      <th>gender</th>\n",
       "      <th>count</th>\n",
       "      <th>age_group_count</th>\n",
       "      <th>age_group_count</th>\n",
       "    </tr>\n",
       "  </thead>\n",
       "  <tbody>\n",
       "    <tr>\n",
       "      <th>0</th>\n",
       "      <td>fifties</td>\n",
       "      <td>male</td>\n",
       "      <td>40</td>\n",
       "      <td>40</td>\n",
       "      <td>40</td>\n",
       "    </tr>\n",
       "    <tr>\n",
       "      <th>1</th>\n",
       "      <td>teens</td>\n",
       "      <td>male</td>\n",
       "      <td>111</td>\n",
       "      <td>111</td>\n",
       "      <td>111</td>\n",
       "    </tr>\n",
       "    <tr>\n",
       "      <th>2</th>\n",
       "      <td>fourties</td>\n",
       "      <td>male</td>\n",
       "      <td>505</td>\n",
       "      <td>505</td>\n",
       "      <td>505</td>\n",
       "    </tr>\n",
       "    <tr>\n",
       "      <th>3</th>\n",
       "      <td>thirties</td>\n",
       "      <td>male</td>\n",
       "      <td>1140</td>\n",
       "      <td>1140</td>\n",
       "      <td>1140</td>\n",
       "    </tr>\n",
       "    <tr>\n",
       "      <th>4</th>\n",
       "      <td>twenties</td>\n",
       "      <td>male</td>\n",
       "      <td>410</td>\n",
       "      <td>420</td>\n",
       "      <td>420</td>\n",
       "    </tr>\n",
       "    <tr>\n",
       "      <th>5</th>\n",
       "      <td>twenties</td>\n",
       "      <td>female</td>\n",
       "      <td>10</td>\n",
       "      <td>420</td>\n",
       "      <td>420</td>\n",
       "    </tr>\n",
       "  </tbody>\n",
       "</table>\n",
       "</div>"
      ]
     },
     "metadata": {},
     "execution_count": 40
    }
   ],
   "metadata": {}
  },
  {
   "cell_type": "code",
   "execution_count": 41,
   "source": [
    "plot = sns.barplot(data=pd_dataframe_spark, x='age', y='count', hue='gender')\n",
    "plot.set_title(\"Number of Finnish sentences recorded by gender\")\n",
    "\n",
    "plt.show(plot)"
   ],
   "outputs": [
    {
     "output_type": "display_data",
     "data": {
      "text/plain": [
       "<Figure size 432x288 with 1 Axes>"
      ],
      "image/png": "[encoded data removed]"
     },
     "metadata": {
      "needs_background": "light"
     }
    }
   ],
   "metadata": {}
  },
  {
   "cell_type": "markdown",
   "source": [
    "4. Visualiser l'évolution des phrases validées pour le genre masculin en fonction du groupe d'âge"
   ],
   "metadata": {}
  },
  {
   "cell_type": "code",
   "execution_count": 105,
   "source": [
    "# !!! groupBy().count()\n",
    "up_votes = dataframe_spark.withColumn('up_total', fn.sum('up_votes').over(Window.partitionBy('age','gender')))  \\\n",
    "    .groupBy('age', 'gender', 'up_total').count() \\\n",
    "    .select('age', 'gender', 'up_total') \\\n",
    "    .where(\" gender = 'male' \") \n",
    "\n",
    "up_votes.show()"
   ],
   "outputs": [
    {
     "output_type": "stream",
     "name": "stdout",
     "text": [
      "+--------+------+--------+\n",
      "|     age|gender|up_total|\n",
      "+--------+------+--------+\n",
      "|twenties|  male|     810|\n",
      "|   teens|  male|     216|\n",
      "|fourties|  male|     988|\n",
      "| fifties|  male|      53|\n",
      "|thirties|  male|    2190|\n",
      "+--------+------+--------+\n",
      "\n"
     ]
    }
   ],
   "metadata": {}
  },
  {
   "cell_type": "code",
   "execution_count": 111,
   "source": [
    "window = Window.partitionBy('gender').orderBy(up_votes.up_total.desc())\n",
    "up_votes_classment = up_votes.withColumn('rank', fn.dense_rank().over(window)) \\\n",
    "    .select('age','gender','up_total','rank') \\\n",
    "    \n",
    "up_votes_classment.show()"
   ],
   "outputs": [
    {
     "output_type": "stream",
     "name": "stdout",
     "text": [
      "+--------+------+--------+----+\n",
      "|     age|gender|up_total|rank|\n",
      "+--------+------+--------+----+\n",
      "|thirties|  male|    2190|   1|\n",
      "|fourties|  male|     988|   2|\n",
      "|twenties|  male|     810|   3|\n",
      "|   teens|  male|     216|   4|\n",
      "| fifties|  male|      53|   5|\n",
      "+--------+------+--------+----+\n",
      "\n"
     ]
    }
   ],
   "metadata": {}
  },
  {
   "cell_type": "code",
   "execution_count": 43,
   "source": [
    "pd_frame = up_votes.toPandas()\n",
    "plot_vote = sns.lineplot(data=pd_frame,x='age', y='up_total')\n",
    "plot_vote.set_title('Up vote numbers for male records in different age groups')\n",
    "plt.show(plot_vote)"
   ],
   "outputs": [
    {
     "output_type": "display_data",
     "data": {
      "text/plain": [
       "<Figure size 432x288 with 1 Axes>"
      ],
      "image/png": "[encoded data removed]"
     },
     "metadata": {
      "needs_background": "light"
     }
    }
   ],
   "metadata": {}
  },
  {
   "cell_type": "code",
   "execution_count": 97,
   "source": [
    "# par seaborn\n",
    "sns.set(rc={'figure.figsize':(8,5)}, style='darkgrid')\n",
    "chart = sns.lineplot(data=pd_frame, x='age', y='up_total', style='gender')\n",
    "chart.set_title('Up vote numbers for male records in different age groups')\n",
    "plt.show(chart)"
   ],
   "outputs": [
    {
     "output_type": "display_data",
     "data": {
      "text/plain": [
       "<Figure size 576x360 with 1 Axes>"
      ],
      "image/png": "[encoded data removed]"
     },
     "metadata": {}
    }
   ],
   "metadata": {}
  },
  {
   "cell_type": "markdown",
   "source": [
    "5. Quelles phrases doivent être relues ?"
   ],
   "metadata": {}
  },
  {
   "cell_type": "code",
   "execution_count": 99,
   "source": [
    "down_votes = dataframe_spark.withColumn('sum_down_votes', fn.sum('down_votes').over(Window.partitionBy('sentence'))) \\\n",
    "    .select('sentence', 'down_votes', 'sum_down_votes') \\\n",
    "    .distinct()\n",
    "\n",
    "down = down_votes.orderBy(down_votes.sum_down_votes.desc())\n",
    "down.show(10)"
   ],
   "outputs": [
    {
     "output_type": "stream",
     "name": "stdout",
     "text": [
      "+--------------------+----------+--------------+\n",
      "|            sentence|down_votes|sum_down_votes|\n",
      "+--------------------+----------+--------------+\n",
      "|Ehkä se ei ollutk...|         1|             2|\n",
      "|Jos ihmiset tietä...|         2|             2|\n",
      "|\"\"\"No meehä Hydru...|         2|             2|\n",
      "|       Mistä syystä?|         1|             2|\n",
      "|Voisivatko asiat ...|         2|             2|\n",
      "|Samoin tunteet ja...|         2|             2|\n",
      "|Kun Uffe kävi läp...|         2|             2|\n",
      "|Saara teristää ko...|         1|             2|\n",
      "|Kaikilla arkin as...|         2|             2|\n",
      "|Äänestimme kuiten...|         1|             2|\n",
      "+--------------------+----------+--------------+\n",
      "only showing top 10 rows\n",
      "\n"
     ]
    }
   ],
   "metadata": {}
  }
 ],
 "metadata": {
  "orig_nbformat": 4,
  "language_info": {
   "name": "python",
   "version": "3.8.3",
   "mimetype": "text/x-python",
   "codemirror_mode": {
    "name": "ipython",
    "version": 3
   },
   "pygments_lexer": "ipython3",
   "nbconvert_exporter": "python",
   "file_extension": ".py"
  },
  "kernelspec": {
   "name": "python3",
   "display_name": "Python 3.8.3 64-bit ('base': conda)"
  },
  "interpreter": {
   "hash": "7a6fe6d2901b386d129bd185fa5eadfbfc7340d3e4fe2fc249c4d863a070c01c"
  }
 },
 "nbformat": 4,
 "nbformat_minor": 2
}